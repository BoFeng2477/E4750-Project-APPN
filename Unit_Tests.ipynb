{
 "cells": [
  {
   "cell_type": "code",
   "execution_count": 1,
   "id": "cf858571-dad5-4fb1-b919-1eee1ed0742d",
   "metadata": {},
   "outputs": [],
   "source": [
    "import numpy as np\n",
    "import torch.nn as nn\n",
    "import torch\n",
    "from SparsityAnalysis import extract_patterns, SparseConvArrays"
   ]
  },
  {
   "cell_type": "markdown",
   "id": "e3631530-d3e9-4c5a-9193-9a14b6a5d29f",
   "metadata": {},
   "source": [
    "### A Simple Demo Test"
   ]
  },
  {
   "cell_type": "code",
   "execution_count": 3,
   "id": "4aceee98-1132-49a2-a890-6eeb34749ae7",
   "metadata": {},
   "outputs": [],
   "source": [
    "weight = np.array(\n",
    "        [[[[0., 0., 0.],\n",
    "           [0., 1., 0.],\n",
    "           [1., 1., 1.]],\n",
    "\n",
    "          [[0., 0., 0.],\n",
    "           [0., 1., 0.],\n",
    "           [1., 1., 1.]],\n",
    "\n",
    "          [[0., 0., 0.],\n",
    "           [0., 1., 0.],\n",
    "           [1., 1., 1.]]]])\n",
    "weight.shape"
   ]
  },
  {
   "cell_type": "code",
   "execution_count": 5,
   "id": "0a6f8f27-af44-478c-8f4e-bb34a07fb964",
   "metadata": {},
   "outputs": [
    {
     "data": {
      "text/plain": [
       "array([[0, 0, 0, 0, 1, 0, 1, 1, 1]])"
      ]
     },
     "execution_count": 5,
     "metadata": {},
     "output_type": "execute_result"
    }
   ],
   "source": [
    "patterns = np.array(extract_patterns(weight))\n",
    "patterns"
   ]
  },
  {
   "cell_type": "code",
   "execution_count": 6,
   "id": "952223b6-5930-47ae-9d32-f034d8593686",
   "metadata": {},
   "outputs": [],
   "source": [
    "sparse_conv_arrays = SparseConvArrays(weight, patterns)"
   ]
  },
  {
   "cell_type": "code",
   "execution_count": 7,
   "id": "e8edf408-a172-43ea-a49e-5dc1419fdd37",
   "metadata": {},
   "outputs": [
    {
     "name": "stdout",
     "output_type": "stream",
     "text": [
      "offset:[0 3]\n",
      "\n",
      "reorder:[0]\n",
      "\n",
      "index:[0 1 2]\n",
      "\n",
      "stride:[0 3]\n",
      "\n",
      "weight:[1. 1. 1. 1. 1. 1. 1. 1. 1. 1. 1. 1.]\n",
      "\n",
      "ptset:\n",
      "[[[1 1]\n",
      "  [2 0]\n",
      "  [2 1]\n",
      "  [2 2]]]\n"
     ]
    }
   ],
   "source": [
    "offset = sparse_conv_arrays.offset\n",
    "reorder = sparse_conv_arrays.reorder\n",
    "index = sparse_conv_arrays.index\n",
    "stride = sparse_conv_arrays.stride\n",
    "weight = sparse_conv_arrays.weight\n",
    "ptset = sparse_conv_arrays.ptset\n",
    "print(f\"offset:{offset}\\n\\nreorder:{reorder}\\n\\nindex:{index}\\n\\nstride:{stride}\\n\\nweight:{weight}\\n\\nptset:\\n{ptset}\")"
   ]
  },
  {
   "cell_type": "markdown",
   "id": "25b8c2d3-3c2b-4d03-87e5-90f7872b1320",
   "metadata": {},
   "source": [
    "### Load Actual Weights from Pattern-Pruned ResNet-34"
   ]
  },
  {
   "cell_type": "code",
   "execution_count": 2,
   "id": "f8878e4f-f2c7-48de-9153-a2b1bfa3054d",
   "metadata": {},
   "outputs": [],
   "source": [
    "path = 'resnet34_6_pattern_connectivity_pruning.pt'\n",
    "state_dict = torch.load(path, map_location=torch.device('cpu'))\n",
    "\n",
    "# residual_conv_dict = {k:v.cpu().numpy() for (k,v) in state_dict.items() if \"layer\" in k and \"conv\" in k}\n",
    "residual_convs = [v.cpu().numpy() for (k, v) in state_dict.items() if \"layer\" in k and \"conv\" in k]\n",
    "data_shapes = [\n",
    "    [1, 64, 32, 32], [1, 64, 32, 32], [1, 64, 32, 32], [1, 64, 32, 32], [1, 64, 32, 32], [1, 64, 32, 32],\n",
    "    [1, 64, 32, 32], [1, 128, 16, 16], [1, 128, 16, 16], [1, 128, 16, 16], [1, 128, 16, 16], [1, 128, 16, 16],\n",
    "    [1, 128, 16, 16], [1, 128, 16, 16], [1, 128, 16, 16], [1, 256, 8, 8], [1, 256, 8, 8], [1, 256, 8, 8],\n",
    "    [1, 256, 8, 8], [1, 256, 8, 8], [1, 256, 8, 8], [1, 256, 8, 8], [1, 256, 8, 8], [1, 256, 8, 8],\n",
    "    [1, 256, 8, 8], [1, 256, 8, 8], [1, 256, 8, 8], [1, 512, 4, 4], [1, 512, 4, 4], [1, 512, 4, 4],\n",
    "    [1, 512, 4, 4], [1, 512, 4, 4],\n",
    "]"
   ]
  },
  {
   "cell_type": "markdown",
   "id": "8e1c8dff",
   "metadata": {},
   "source": [
    "### Correctness Check - unit test"
   ]
  },
  {
   "cell_type": "code",
   "execution_count": 13,
   "id": "e68d6537",
   "metadata": {},
   "outputs": [
    {
     "name": "stdout",
     "output_type": "stream",
     "text": [
      "conv_cuda|nnpack: True\n"
     ]
    }
   ],
   "source": [
    "from conv_naive import Convolution\n",
    "conv = Convolution()\n",
    "ip = np.ones((1,64,32,32)).astype(np.float32)\n",
    "mask = np.ones((128,64,3,3)).astype(np.float32)\n",
    "output_1 = conv.conv_multiple_filters(ip, mask)[0]\n",
    "output_gt = nn.functional.conv2d(torch.tensor(ip), torch.tensor(mask),padding=1)\n",
    "output_gt = output_gt.cpu().numpy()\n",
    "# print(output_gt)\n",
    "# print(output_1)\n",
    "print(f'conv_cuda|nnpack: {np.allclose(output_1,output_gt)}')"
   ]
  },
  {
   "cell_type": "markdown",
   "id": "c7839de4",
   "metadata": {},
   "source": [
    "### Correctness Check - full model"
   ]
  },
  {
   "cell_type": "code",
   "execution_count": 12,
   "id": "555a4cb5",
   "metadata": {},
   "outputs": [
    {
     "name": "stdout",
     "output_type": "stream",
     "text": [
      "********** conv layer 0 **********\n",
      "conv_cuda|nnpack: False\n",
      "\n",
      "********** conv layer 1 **********\n",
      "conv_cuda|nnpack: False\n",
      "\n",
      "********** conv layer 2 **********\n",
      "conv_cuda|nnpack: False\n",
      "\n",
      "********** conv layer 3 **********\n",
      "conv_cuda|nnpack: False\n",
      "\n",
      "********** conv layer 4 **********\n",
      "conv_cuda|nnpack: False\n",
      "\n",
      "********** conv layer 5 **********\n",
      "conv_cuda|nnpack: False\n",
      "\n",
      "********** conv layer 6 **********\n",
      "conv_cuda|nnpack: False\n",
      "\n",
      "********** conv layer 7 **********\n",
      "conv_cuda|nnpack: False\n",
      "\n",
      "********** conv layer 8 **********\n",
      "conv_cuda|nnpack: False\n",
      "\n",
      "********** conv layer 9 **********\n",
      "conv_cuda|nnpack: False\n",
      "\n",
      "********** conv layer 10 **********\n",
      "conv_cuda|nnpack: False\n",
      "\n",
      "********** conv layer 11 **********\n",
      "conv_cuda|nnpack: False\n",
      "\n",
      "********** conv layer 12 **********\n",
      "conv_cuda|nnpack: False\n",
      "\n",
      "********** conv layer 13 **********\n",
      "conv_cuda|nnpack: False\n",
      "\n",
      "********** conv layer 14 **********\n",
      "conv_cuda|nnpack: False\n",
      "\n",
      "********** conv layer 15 **********\n",
      "conv_cuda|nnpack: False\n",
      "\n",
      "********** conv layer 16 **********\n",
      "conv_cuda|nnpack: False\n",
      "\n",
      "********** conv layer 17 **********\n",
      "conv_cuda|nnpack: False\n",
      "\n",
      "********** conv layer 18 **********\n",
      "conv_cuda|nnpack: False\n",
      "\n",
      "********** conv layer 19 **********\n",
      "conv_cuda|nnpack: False\n",
      "\n",
      "********** conv layer 20 **********\n",
      "conv_cuda|nnpack: False\n",
      "\n",
      "********** conv layer 21 **********\n",
      "conv_cuda|nnpack: False\n",
      "\n",
      "********** conv layer 22 **********\n",
      "conv_cuda|nnpack: False\n",
      "\n",
      "********** conv layer 23 **********\n",
      "conv_cuda|nnpack: False\n",
      "\n",
      "********** conv layer 24 **********\n",
      "conv_cuda|nnpack: False\n",
      "\n",
      "********** conv layer 25 **********\n",
      "conv_cuda|nnpack: False\n",
      "\n",
      "********** conv layer 26 **********\n",
      "conv_cuda|nnpack: False\n",
      "\n",
      "********** conv layer 27 **********\n",
      "conv_cuda|nnpack: False\n",
      "\n",
      "********** conv layer 28 **********\n",
      "conv_cuda|nnpack: False\n",
      "\n",
      "********** conv layer 29 **********\n",
      "conv_cuda|nnpack: False\n",
      "\n",
      "********** conv layer 30 **********\n",
      "conv_cuda|nnpack: False\n",
      "\n",
      "********** conv layer 31 **********\n",
      "conv_cuda|nnpack: False\n",
      "\n"
     ]
    }
   ],
   "source": [
    "from conv_naive import Convolution\n",
    "import numpy as np\n",
    "conv = Convolution()\n",
    "for idx in range(len(residual_convs[:])):\n",
    "    input_data = np.ones(data_shapes[idx]).astype(np.float32)\n",
    "    conv_mask = residual_convs[idx].astype(np.float32)\n",
    "    output_1 = conv.conv_multiple_filters(input_data, conv_mask)[0]\n",
    "    output_gt = nn.functional.conv2d(torch.tensor(input_data), torch.tensor(conv_mask),padding=1)\n",
    "    output_gt = output_gt.cpu().numpy()\n",
    "    print('*'*10 + f' conv layer {idx} ' + '*'*10)\n",
    "    print(f'conv_cuda|nnpack: {np.allclose(output_1,output_gt)}\\n')\n"
   ]
  },
  {
   "cell_type": "markdown",
   "id": "42a672c8",
   "metadata": {},
   "source": [
    "### Time Cost w/o memory transfer - nnpack"
   ]
  },
  {
   "cell_type": "code",
   "execution_count": 14,
   "id": "86ef6fed",
   "metadata": {},
   "outputs": [
    {
     "name": "stderr",
     "output_type": "stream",
     "text": [
      "  0%|          | 0/32 [00:00<?, ?it/s]"
     ]
    }
   ],
   "source": [
    "from conv_naive import Convolution\n",
    "import numpy as np\n",
    "from tqdm import tqdm\n",
    "import time\n",
    "conv = Convolution()\n",
    "cuda0 = torch.device('cuda:0')\n",
    "cpu = torch.device('cpu')\n",
    "total_time = 0\n",
    "\n",
    "for idx in tqdm(range(len(residual_convs[:]))):\n",
    "    input_data = np.ones(data_shapes[idx]).astype(np.float32)\n",
    "    conv_mask = residual_convs[idx].astype(np.float32)\n",
    "    input_data_g = torch.tensor(input_data, device = cuda0)\n",
    "    conv_mask_g = torch.tensor(conv_mask, device = cuda0)\n",
    "    start = time.time()\n",
    "    output_gt = nn.functional.conv2d(input_data_g, conv_mask_g,padding=1)\n",
    "    #output_gt = nn.functional.conv2d(torch.tensor(input_data), torch.tensor(conv_mask),padding=1)\n",
    "    end =  time.time()\n",
    "    total_time += end - start\n",
    "\n",
    "print(f'{round(total_time,3)}s')\n",
    "\n"
   ]
  },
  {
   "cell_type": "markdown",
   "id": "85e77bc8",
   "metadata": {},
   "source": [
    "### Time Cost w/o memory transfer - conv_naive"
   ]
  },
  {
   "cell_type": "code",
   "execution_count": 5,
   "id": "2fb0579f",
   "metadata": {},
   "outputs": [
    {
     "name": "stderr",
     "output_type": "stream",
     "text": [
      "100%|██████████| 32/32 [00:00<00:00, 208.53it/s]\n"
     ]
    },
    {
     "data": {
      "text/plain": [
       "0.08981484746932983"
      ]
     },
     "execution_count": 5,
     "metadata": {},
     "output_type": "execute_result"
    }
   ],
   "source": [
    "from conv_naive import Convolution\n",
    "import numpy as np\n",
    "from tqdm import tqdm\n",
    "import time\n",
    "conv = Convolution()\n",
    "cuda0 = torch.device('cuda:0')\n",
    "total_time = 0\n",
    "\n",
    "for idx in tqdm(range(len(residual_convs[:]))):\n",
    "    input_data = np.ones(data_shapes[idx]).astype(np.float32)\n",
    "    conv_mask = residual_convs[idx].astype(np.float32)\n",
    "    output_1, time_ = conv.conv_multiple_filters(input_data, conv_mask)\n",
    "    total_time += time_\n",
    "\n",
    "total_time\n",
    "\n"
   ]
  },
  {
   "cell_type": "markdown",
   "id": "7bb04872",
   "metadata": {},
   "source": [
    "### Space Cost Analysis"
   ]
  },
  {
   "cell_type": "code",
   "execution_count": 15,
   "id": "4e374e7f-3f55-4b54-9f34-76cc26eb1173",
   "metadata": {},
   "outputs": [
    {
     "name": "stdout",
     "output_type": "stream",
     "text": [
      "********** conv layer 0 **********\n",
      "Normal_conv_mask:\n",
      "147456\n",
      "FKW_conv_mask:\n",
      "6600\n",
      "\n",
      "********** conv layer 1 **********\n",
      "Normal_conv_mask:\n",
      "147456\n",
      "FKW_conv_mask:\n",
      "6600\n",
      "\n"
     ]
    }
   ],
   "source": [
    "for idx in range(len(residual_convs[-3:-1])):\n",
    "    patterns = np.array(extract_patterns(residual_convs[idx]))\n",
    "    sparse_conv_arrays = SparseConvArrays(residual_convs[idx], patterns)\n",
    "    offset = sparse_conv_arrays.offset\n",
    "    reorder = sparse_conv_arrays.reorder\n",
    "    index = sparse_conv_arrays.index\n",
    "    stride = sparse_conv_arrays.stride\n",
    "    weight = sparse_conv_arrays.weight\n",
    "    ptset = sparse_conv_arrays.ptset\n",
    "    #print(f\"offset:{offset}\\n\\nreorder:{reorder}\\n\\nindex:{index}\\n\\nstride:{stride}\\n\\nweight:{weight}\\n\\nptset:\\n{ptset}\")\n",
    "    #print(conv_layer_weight)\n",
    "    ### Space\n",
    "    print('*'*10 + f' conv layer {idx} ' + '*'*10)\n",
    "    print(f'Normal_conv_mask:\\n{residual_convs[idx].nbytes}')\n",
    "    print(f'FKW_conv_mask:\\n{offset.nbytes+reorder.nbytes+index.nbytes+stride.nbytes+weight.nbytes+ptset.nbytes}\\n')\n",
    "    #print(patterns)"
   ]
  },
  {
   "cell_type": "code",
   "execution_count": 16,
   "id": "150bc54a-d770-4168-aeea-915e031e72f4",
   "metadata": {},
   "outputs": [
    {
     "data": {
      "text/plain": [
       "22.341818181818184"
      ]
     },
     "execution_count": 16,
     "metadata": {},
     "output_type": "execute_result"
    }
   ],
   "source": [
    "147456/6600"
   ]
  }
 ],
 "metadata": {
  "kernelspec": {
   "display_name": "Python 3 (ipykernel)",
   "language": "python",
   "name": "python3"
  },
  "language_info": {
   "codemirror_mode": {
    "name": "ipython",
    "version": 3
   },
   "file_extension": ".py",
   "mimetype": "text/x-python",
   "name": "python",
   "nbconvert_exporter": "python",
   "pygments_lexer": "ipython3",
   "version": "3.6.9"
  }
 },
 "nbformat": 4,
 "nbformat_minor": 5
}
